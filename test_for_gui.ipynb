{
 "cells": [
  {
   "cell_type": "markdown",
   "metadata": {},
   "source": [
    "## Imports"
   ]
  },
  {
   "cell_type": "code",
   "execution_count": 1,
   "metadata": {},
   "outputs": [],
   "source": [
    "import pandas as pd\n",
    "import gradio as gr\n",
    "import nltk\n",
    "import numpy as np\n",
    "import matplotlib.pyplot as plt\n",
    "\n",
    "from machine_learning import MachineLearning\n",
    "\n",
    "from sklearn.decomposition import PCA\n",
    "from sklearn import preprocessing\n",
    "\n",
    "import base64"
   ]
  },
  {
   "cell_type": "markdown",
   "metadata": {},
   "source": [
    "## Files load"
   ]
  },
  {
   "cell_type": "code",
   "execution_count": 2,
   "metadata": {},
   "outputs": [],
   "source": [
    "df_descripteur_porter = pd.read_csv('freq_poids_porter.csv')\n",
    "df_descripteur_lancaster = pd.read_csv('freq_poids_lancaster.csv')"
   ]
  },
  {
   "cell_type": "code",
   "execution_count": 3,
   "metadata": {},
   "outputs": [],
   "source": [
    "df_freqs_poids_porter = pd.read_csv('freq_poids_porter.csv')\n",
    "df_freqs_poids_lancaster = pd.read_csv('freq_poids_lancaster.csv')"
   ]
  },
  {
   "cell_type": "code",
   "execution_count": 4,
   "metadata": {},
   "outputs": [],
   "source": [
    "df_pca_dbscan = pd.read_csv('pca_df_dbscan.csv').drop(['label', 'Unnamed: 0'], axis=1)"
   ]
  },
  {
   "cell_type": "code",
   "execution_count": 5,
   "metadata": {},
   "outputs": [],
   "source": [
    "queries_porter = pd.read_csv('queries_porter.csv')"
   ]
  },
  {
   "cell_type": "code",
   "execution_count": 6,
   "metadata": {},
   "outputs": [],
   "source": [
    "ml = MachineLearning()"
   ]
  },
  {
   "cell_type": "markdown",
   "metadata": {},
   "source": [
    "### Old files (Deprecated)"
   ]
  },
  {
   "cell_type": "code",
   "execution_count": 7,
   "metadata": {},
   "outputs": [],
   "source": [
    "# df_inverse_porter = pd.read_csv('df_poids.csv').drop('Unnamed: 0', axis=1)\n",
    "# df_inverse_lancaster = pd.read_csv('df_poids_lan.csv').drop('Unnamed: 0', axis=1)"
   ]
  },
  {
   "cell_type": "markdown",
   "metadata": {},
   "source": [
    "# Functions"
   ]
  },
  {
   "cell_type": "markdown",
   "metadata": {},
   "source": [
    "## First tab functions"
   ]
  },
  {
   "cell_type": "code",
   "execution_count": 8,
   "metadata": {},
   "outputs": [],
   "source": [
    "def search_query_poids(phrase, stemming_method):\n",
    "        if stemming_method == 'Porter':\n",
    "                return ml.freq_inverse(df_descripteur_porter, phrase, 'P')\n",
    "        elif stemming_method == 'Lancaster':\n",
    "                return ml.freq_inverse(df_descripteur_lancaster, phrase, 'L')"
   ]
  },
  {
   "cell_type": "code",
   "execution_count": 9,
   "metadata": {},
   "outputs": [],
   "source": [
    "def search_document_number(document, stemming_method):\n",
    "        if stemming_method == 'Porter':\n",
    "                new_df = df_descripteur_porter[df_descripteur_porter['Document']== document]\n",
    "        elif stemming_method == 'Lancaster':\n",
    "                new_df = df_descripteur_lancaster[df_descripteur_lancaster['Document']== document]\n",
    "        new_df.drop(['Document'], axis=1, inplace=True)\n",
    "        return new_df"
   ]
  },
  {
   "cell_type": "markdown",
   "metadata": {},
   "source": [
    "#### Old functions (deprecated)"
   ]
  },
  {
   "cell_type": "code",
   "execution_count": 10,
   "metadata": {},
   "outputs": [],
   "source": [
    "# def search_document_descripteur(document, stemming_method):\n",
    "#         if stemming_method == 'Porter':\n",
    "#                 new_df = df_descripteur_porter[df_descripteur_porter['Document']== document]\n",
    "#         elif stemming_method == 'Lancaster':\n",
    "#                 new_df = df_descripteur_lancaster[df_descripteur_lancaster['Document']== document]\n",
    "#         new_df.drop(['Document'], axis=1, inplace=True)\n",
    "        \n",
    "#         if stemming_method == 'Porter':\n",
    "#                 inverse = df_inverse_porter.iloc[int(document)].to_frame()\n",
    "#         elif stemming_method == 'Lancaster':\n",
    "#                 inverse = df_inverse_lancaster.iloc[int(document)].to_frame()\n",
    "#         inverse = inverse[(inverse.T != 0.000000).all()]\n",
    "#         inverse = inverse.reset_index(level=0)\n",
    "#         inverse[\"Terme\"] = inverse[\"index\"]\n",
    "#         inverse[\"Poid\"] = inverse[int(document)]\n",
    "#         inverse.drop([int(document)], axis=1, inplace=True)\n",
    "#         inverse.drop(['index'], axis=1, inplace=True)\n",
    "\n",
    "#         return [new_df, inverse]"
   ]
  },
  {
   "cell_type": "code",
   "execution_count": 11,
   "metadata": {},
   "outputs": [],
   "source": [
    "# def search_document_inverse(phrase, stemming_method):\n",
    "#         ExpReg = nltk. RegexpTokenizer('(?:[A-Za-z]\\.)+|\\d+(?:\\.\\d+)?%?|\\w+(?:\\-\\w+)*')\n",
    "#         termes = ExpReg.tokenize(phrase)\n",
    "#         termes = [t.lower() for t in termes]\n",
    "#         MotsVides = nltk.corpus.stopwords.words('english')\n",
    "#         if stemming_method == 'Porter':\n",
    "#                 Porter = nltk.PorterStemmer()\n",
    "#                 TermesSansMotsVides_p = [Porter.stem(terme) for terme in termes if terme.lower() not in MotsVides]\n",
    "#         elif stemming_method == 'Lancaster':\n",
    "#                 Lancaster = nltk.LancasterStemmer()\n",
    "#                 TermesSansMotsVides_p = [Lancaster.stem(terme) for terme in termes if terme.lower() not in MotsVides]\n",
    "        \n",
    "#         if stemming_method == 'Porter':\n",
    "#                 new_df = df_inverse_porter[TermesSansMotsVides_p]\n",
    "#         elif stemming_method == 'Lancaster':\n",
    "#                 new_df = df_inverse_lancaster[TermesSansMotsVides_p]\n",
    "#         new_df = new_df[(new_df.T != 0.000000).any()]\n",
    "#         new_df = new_df.reset_index(level=0)\n",
    "\n",
    "#         if stemming_method == 'Porter':\n",
    "#                 desc_df = df_descripteur_porter.loc[df_descripteur_porter['Terme'].isin(TermesSansMotsVides_p) ]\n",
    "#         elif stemming_method == 'Lancaster':\n",
    "#                 desc_df = df_descripteur_lancaster.loc[df_descripteur_lancaster['Terme'].isin(TermesSansMotsVides_p) ]\n",
    "\n",
    "#         #new_df.drop(['document'], axis=1, inplace=True)\n",
    "#         return new_df, desc_df"
   ]
  },
  {
   "cell_type": "markdown",
   "metadata": {},
   "source": [
    "## Second tab function"
   ]
  },
  {
   "cell_type": "code",
   "execution_count": 12,
   "metadata": {},
   "outputs": [],
   "source": [
    "def search_query(query, stemmer):\n",
    "        results = ml.boolean(query, stemmer[0])\n",
    "        return pd.DataFrame(results)\n",
    "        "
   ]
  },
  {
   "cell_type": "markdown",
   "metadata": {},
   "source": [
    "### Test query"
   ]
  },
  {
   "cell_type": "code",
   "execution_count": 13,
   "metadata": {},
   "outputs": [],
   "source": [
    "# search_query(\"information AND classification OR NOT title AND computers\")"
   ]
  },
  {
   "cell_type": "markdown",
   "metadata": {},
   "source": [
    "## Third tab functions"
   ]
  },
  {
   "cell_type": "code",
   "execution_count": 14,
   "metadata": {},
   "outputs": [],
   "source": [
    "def run_dbscan_function(eps, min_samples):\n",
    "        global X\n",
    "        X = df_pca_dbscan.copy()\n",
    "        dbscan = ml.DBSCAN(eps, min_samples, data=df_pca_dbscan.to_numpy())\n",
    "        dbscan.fit()\n",
    "        X['label'] = np.nan\n",
    "        clusters = dbscan.get_clusters()\n",
    "        noise = dbscan.get_noise()\n",
    "        for cluster in range (len(clusters)):\n",
    "                for element in clusters[cluster]:\n",
    "                        #assign cluster number to each element\n",
    "                        X.loc[element]['label'] = cluster\n",
    "        for element in noise:\n",
    "                #assign cluster number to each element\n",
    "                X.loc[element]['label'] = -1\n",
    "        fig,ax = plt.subplots(1,1)\n",
    "        map = ax.scatter(X['0'],X['1'], c=X['label'], cmap='rainbow')\n",
    "        fig.colorbar(map, ax=ax)\n",
    "        res, plot_naive, plot_naive_scatter,confusion_matrix_naive, accuracy, precision, recall, f1 = run_naive_bayes()\n",
    "        \n",
    "        return fig, plot_naive, plot_naive_scatter, confusion_matrix_naive, accuracy, precision, recall, f1"
   ]
  },
  {
   "cell_type": "code",
   "execution_count": 15,
   "metadata": {},
   "outputs": [],
   "source": [
    "def run_naive_bayes():\n",
    "        pca = PCA(n_components=2)\n",
    "        pca.fit(queries_porter)\n",
    "        x_pca = pca.transform(queries_porter)\n",
    "        pca_df = pd.DataFrame(x_pca)\n",
    "        x = pca_df.values #returns a numpy array\n",
    "        min_max_scaler = preprocessing.MinMaxScaler()\n",
    "        x_scaled = min_max_scaler.fit_transform(x)\n",
    "        pca_df_normalized = pd.DataFrame(x_scaled)\n",
    "\n",
    "        X_train, X_test, y_train, y_test = ml.train_test_split(X, test_size=0.3)\n",
    "        bayes= ml.NaiveBayesClassifier()\n",
    "        bayes.fit(X_train, y_train)\n",
    "        predictions = bayes.predict(X_test.squeeze())\n",
    "        while (len(np.unique(predictions)) < len(np.unique(X['label']))/2):\n",
    "            X_train, X_test, y_train, y_test = ml.train_test_split(X, test_size=0.3)\n",
    "            bayes= ml.NaiveBayesClassifier()\n",
    "            bayes.fit(X_train, y_train)\n",
    "            predictions = bayes.predict(X_test.squeeze())\n",
    "\n",
    "        accuracy = bayes.accuracy(y_test, predictions)\n",
    "\n",
    "        plot_naive = bayes.visualize(y_test, predictions, 'label')\n",
    "\n",
    "        pca_df_normalized['label'] = bayes.predict(pca_df_normalized)\n",
    "        fig2, ax = plt.subplots(1,1)\n",
    "        ax.scatter(pca_df_normalized[0], pca_df_normalized[1], c=pca_df_normalized['label'], cmap='rainbow')\n",
    "        \n",
    "        predictions = pd.Series(predictions)\n",
    "        y_test.reset_index(drop=True, inplace=True)\n",
    "        confusion = bayes.confusion_matrix(y_test, predictions)\n",
    "        precision = pd.DataFrame(bayes.precision(y_test, predictions), columns=['Precision'])\n",
    "        recall = pd.DataFrame(bayes.recall(y_test, predictions), columns=['Recall'])\n",
    "        f1 = pd.DataFrame(bayes.f1_score(y_test, predictions), columns=['F1 Score'])\n",
    "        return bayes, plot_naive, fig2, confusion, accuracy, precision, recall, f1\n",
    "        "
   ]
  },
  {
   "cell_type": "markdown",
   "metadata": {},
   "source": [
    "### Test run"
   ]
  },
  {
   "cell_type": "code",
   "execution_count": 16,
   "metadata": {},
   "outputs": [],
   "source": [
    "# res = run_dbscan_function(0.022221,7)\n",
    "# type(res[5])"
   ]
  },
  {
   "cell_type": "markdown",
   "metadata": {},
   "source": [
    "## Fourth Tab Function"
   ]
  },
  {
   "cell_type": "code",
   "execution_count": 17,
   "metadata": {},
   "outputs": [],
   "source": [
    "def run_evaluation(combo_queries, stemming_method_evaluation, SRI):\n",
    "        query_idx = combo_queries.split(':')[0]\n",
    "        \n",
    "        output = ml.roc_curve(stemming_method_evaluation[0], int(query_idx), SRI)\n",
    "        res = output[0]\n",
    "        cm = pd.DataFrame(output[1],columns=['Pertinent','Non Pertinent'],index=['Pertinent','Non Pertinent'])\n",
    "        # roc_curve, top10, p5, p10, p5_inter, p10_inter\n",
    "        fig, ax = plt.subplots(1,1)\n",
    "        ax.plot(res['Rappel_Interpolée'], res['Precision_Interpolée'])\n",
    "        return fig, res, res['Precision'].iloc[4], res['Precision'].iloc[9], res['Precision_Interpolée'].iloc[4], res['Precision_Interpolée'].iloc[9], cm"
   ]
  },
  {
   "cell_type": "markdown",
   "metadata": {},
   "source": [
    "### Test"
   ]
  },
  {
   "cell_type": "code",
   "execution_count": 18,
   "metadata": {},
   "outputs": [
    {
     "ename": "TypeError",
     "evalue": "cannot do slice indexing on Index with these indexers [0] of type int",
     "output_type": "error",
     "traceback": [
      "\u001b[1;31m---------------------------------------------------------------------------\u001b[0m",
      "\u001b[1;31mTypeError\u001b[0m                                 Traceback (most recent call last)",
      "\u001b[1;32m<ipython-input-18-5e9f7b457c23>\u001b[0m in \u001b[0;36m<module>\u001b[1;34m\u001b[0m\n\u001b[1;32m----> 1\u001b[1;33m \u001b[0mrun_evaluation\u001b[0m\u001b[1;33m(\u001b[0m\u001b[1;34m'5: zdodifjkz'\u001b[0m\u001b[1;33m,\u001b[0m \u001b[1;34m'Porter'\u001b[0m\u001b[1;33m,\u001b[0m \u001b[1;34m'Datamining'\u001b[0m\u001b[1;33m)\u001b[0m\u001b[1;33m\u001b[0m\u001b[0m\n\u001b[0m",
      "\u001b[1;32m<ipython-input-17-63b0465a07f4>\u001b[0m in \u001b[0;36mrun_evaluation\u001b[1;34m(combo_queries, stemming_method_evaluation, SRI)\u001b[0m\n\u001b[0;32m      2\u001b[0m         \u001b[0mquery_idx\u001b[0m \u001b[1;33m=\u001b[0m \u001b[0mcombo_queries\u001b[0m\u001b[1;33m.\u001b[0m\u001b[0msplit\u001b[0m\u001b[1;33m(\u001b[0m\u001b[1;34m':'\u001b[0m\u001b[1;33m)\u001b[0m\u001b[1;33m[\u001b[0m\u001b[1;36m0\u001b[0m\u001b[1;33m]\u001b[0m\u001b[1;33m\u001b[0m\u001b[0m\n\u001b[0;32m      3\u001b[0m \u001b[1;33m\u001b[0m\u001b[0m\n\u001b[1;32m----> 4\u001b[1;33m         \u001b[0moutput\u001b[0m \u001b[1;33m=\u001b[0m \u001b[0mml\u001b[0m\u001b[1;33m.\u001b[0m\u001b[0mroc_curve\u001b[0m\u001b[1;33m(\u001b[0m\u001b[0mstemming_method_evaluation\u001b[0m\u001b[1;33m[\u001b[0m\u001b[1;36m0\u001b[0m\u001b[1;33m]\u001b[0m\u001b[1;33m,\u001b[0m \u001b[0mint\u001b[0m\u001b[1;33m(\u001b[0m\u001b[0mquery_idx\u001b[0m\u001b[1;33m)\u001b[0m\u001b[1;33m,\u001b[0m \u001b[0mSRI\u001b[0m\u001b[1;33m)\u001b[0m\u001b[1;33m\u001b[0m\u001b[0m\n\u001b[0m\u001b[0;32m      5\u001b[0m         \u001b[0mres\u001b[0m \u001b[1;33m=\u001b[0m \u001b[0moutput\u001b[0m\u001b[1;33m[\u001b[0m\u001b[1;36m0\u001b[0m\u001b[1;33m]\u001b[0m\u001b[1;33m\u001b[0m\u001b[0m\n\u001b[0;32m      6\u001b[0m         \u001b[0mcm\u001b[0m \u001b[1;33m=\u001b[0m \u001b[0mpd\u001b[0m\u001b[1;33m.\u001b[0m\u001b[0mDataFrame\u001b[0m\u001b[1;33m(\u001b[0m\u001b[0moutput\u001b[0m\u001b[1;33m[\u001b[0m\u001b[1;36m1\u001b[0m\u001b[1;33m]\u001b[0m\u001b[1;33m,\u001b[0m\u001b[0mcolumns\u001b[0m\u001b[1;33m=\u001b[0m\u001b[1;33m[\u001b[0m\u001b[1;34m'Pertinent'\u001b[0m\u001b[1;33m,\u001b[0m\u001b[1;34m'Non Pertinent'\u001b[0m\u001b[1;33m]\u001b[0m\u001b[1;33m,\u001b[0m\u001b[0mindex\u001b[0m\u001b[1;33m=\u001b[0m\u001b[1;33m[\u001b[0m\u001b[1;34m'Pertinent'\u001b[0m\u001b[1;33m,\u001b[0m\u001b[1;34m'Non Pertinent'\u001b[0m\u001b[1;33m]\u001b[0m\u001b[1;33m)\u001b[0m\u001b[1;33m\u001b[0m\u001b[0m\n",
      "\u001b[1;32mc:\\Users\\YsPC\\Documents\\GitHub\\RI\\Projet-RI\\machine_learning.py\u001b[0m in \u001b[0;36mroc_curve\u001b[1;34m(self, stemmer, query, measure)\u001b[0m\n\u001b[0;32m    418\u001b[0m             \u001b[0mcols\u001b[0m \u001b[1;33m=\u001b[0m \u001b[1;33m[\u001b[0m\u001b[1;34m'doc'\u001b[0m\u001b[1;33m,\u001b[0m\u001b[1;34m'distance'\u001b[0m\u001b[1;33m]\u001b[0m\u001b[1;33m\u001b[0m\u001b[0m\n\u001b[0;32m    419\u001b[0m             \u001b[1;32mfor\u001b[0m \u001b[0mdoc\u001b[0m \u001b[1;32min\u001b[0m \u001b[0mdocs\u001b[0m\u001b[1;33m.\u001b[0m\u001b[0mindex\u001b[0m\u001b[1;33m+\u001b[0m\u001b[1;36m1\u001b[0m\u001b[1;33m:\u001b[0m\u001b[1;33m\u001b[0m\u001b[0m\n\u001b[1;32m--> 420\u001b[1;33m                 \u001b[0mdocs\u001b[0m\u001b[1;33m[\u001b[0m\u001b[1;34m'Distance'\u001b[0m\u001b[1;33m]\u001b[0m\u001b[1;33m.\u001b[0m\u001b[0mloc\u001b[0m\u001b[1;33m[\u001b[0m\u001b[0mdoc\u001b[0m\u001b[1;33m-\u001b[0m\u001b[1;36m1\u001b[0m\u001b[1;33m]\u001b[0m \u001b[1;33m=\u001b[0m \u001b[0mself\u001b[0m\u001b[1;33m.\u001b[0m\u001b[0m_distance\u001b[0m\u001b[1;33m(\u001b[0m\u001b[0mpca_df_normalized_queries\u001b[0m\u001b[1;33m.\u001b[0m\u001b[0mloc\u001b[0m\u001b[1;33m[\u001b[0m\u001b[0mquery\u001b[0m\u001b[1;33m-\u001b[0m\u001b[1;36m1\u001b[0m\u001b[1;33m,\u001b[0m\u001b[1;36m0\u001b[0m\u001b[1;33m:\u001b[0m\u001b[1;36m1\u001b[0m\u001b[1;33m]\u001b[0m\u001b[1;33m,\u001b[0m\u001b[0mdocs\u001b[0m\u001b[1;33m.\u001b[0m\u001b[0mloc\u001b[0m\u001b[1;33m[\u001b[0m\u001b[0mdoc\u001b[0m\u001b[1;33m-\u001b[0m\u001b[1;36m1\u001b[0m\u001b[1;33m]\u001b[0m\u001b[1;33m[\u001b[0m\u001b[1;36m0\u001b[0m\u001b[1;33m:\u001b[0m\u001b[1;36m2\u001b[0m\u001b[1;33m]\u001b[0m\u001b[1;33m.\u001b[0m\u001b[0mvalues\u001b[0m\u001b[1;33m)\u001b[0m\u001b[1;33m\u001b[0m\u001b[0m\n\u001b[0m\u001b[0;32m    421\u001b[0m                     \u001b[1;31m#r = r.append({'doc':doc,'distance':_distance(pca_df_normalized_queries.loc[qry-1,0:1],p.loc[doc-1,0:1])}, ignore_index=True)\u001b[0m\u001b[1;33m\u001b[0m\u001b[1;33m\u001b[0m\u001b[0m\n\u001b[0;32m    422\u001b[0m             \u001b[0mpr\u001b[0m \u001b[1;33m=\u001b[0m \u001b[0mdocs\u001b[0m\u001b[1;33m.\u001b[0m\u001b[0msort_values\u001b[0m\u001b[1;33m(\u001b[0m\u001b[0mby\u001b[0m\u001b[1;33m=\u001b[0m\u001b[1;33m[\u001b[0m\u001b[1;34m'Distance'\u001b[0m\u001b[1;33m]\u001b[0m\u001b[1;33m,\u001b[0m \u001b[0mascending\u001b[0m\u001b[1;33m=\u001b[0m\u001b[1;32mTrue\u001b[0m\u001b[1;33m)\u001b[0m\u001b[1;33m\u001b[0m\u001b[0m\n",
      "\u001b[1;32m~\\AppData\\Roaming\\Python\\Python37\\site-packages\\pandas\\core\\indexing.py\u001b[0m in \u001b[0;36m__getitem__\u001b[1;34m(self, key)\u001b[0m\n\u001b[0;32m    871\u001b[0m                     \u001b[1;31m# AttributeError for IntervalTree get_value\u001b[0m\u001b[1;33m\u001b[0m\u001b[1;33m\u001b[0m\u001b[0m\n\u001b[0;32m    872\u001b[0m                     \u001b[1;32mpass\u001b[0m\u001b[1;33m\u001b[0m\u001b[0m\n\u001b[1;32m--> 873\u001b[1;33m             \u001b[1;32mreturn\u001b[0m \u001b[0mself\u001b[0m\u001b[1;33m.\u001b[0m\u001b[0m_getitem_tuple\u001b[0m\u001b[1;33m(\u001b[0m\u001b[0mkey\u001b[0m\u001b[1;33m)\u001b[0m\u001b[1;33m\u001b[0m\u001b[0m\n\u001b[0m\u001b[0;32m    874\u001b[0m         \u001b[1;32melse\u001b[0m\u001b[1;33m:\u001b[0m\u001b[1;33m\u001b[0m\u001b[0m\n\u001b[0;32m    875\u001b[0m             \u001b[1;31m# we by definition only have the 0th axis\u001b[0m\u001b[1;33m\u001b[0m\u001b[1;33m\u001b[0m\u001b[0m\n",
      "\u001b[1;32m~\\AppData\\Roaming\\Python\\Python37\\site-packages\\pandas\\core\\indexing.py\u001b[0m in \u001b[0;36m_getitem_tuple\u001b[1;34m(self, tup)\u001b[0m\n\u001b[0;32m   1042\u001b[0m     \u001b[1;32mdef\u001b[0m \u001b[0m_getitem_tuple\u001b[0m\u001b[1;33m(\u001b[0m\u001b[0mself\u001b[0m\u001b[1;33m,\u001b[0m \u001b[0mtup\u001b[0m\u001b[1;33m:\u001b[0m \u001b[0mTuple\u001b[0m\u001b[1;33m)\u001b[0m\u001b[1;33m:\u001b[0m\u001b[1;33m\u001b[0m\u001b[0m\n\u001b[0;32m   1043\u001b[0m         \u001b[1;32mtry\u001b[0m\u001b[1;33m:\u001b[0m\u001b[1;33m\u001b[0m\u001b[0m\n\u001b[1;32m-> 1044\u001b[1;33m             \u001b[1;32mreturn\u001b[0m \u001b[0mself\u001b[0m\u001b[1;33m.\u001b[0m\u001b[0m_getitem_lowerdim\u001b[0m\u001b[1;33m(\u001b[0m\u001b[0mtup\u001b[0m\u001b[1;33m)\u001b[0m\u001b[1;33m\u001b[0m\u001b[0m\n\u001b[0m\u001b[0;32m   1045\u001b[0m         \u001b[1;32mexcept\u001b[0m \u001b[0mIndexingError\u001b[0m\u001b[1;33m:\u001b[0m\u001b[1;33m\u001b[0m\u001b[0m\n\u001b[0;32m   1046\u001b[0m             \u001b[1;32mpass\u001b[0m\u001b[1;33m\u001b[0m\u001b[0m\n",
      "\u001b[1;32m~\\AppData\\Roaming\\Python\\Python37\\site-packages\\pandas\\core\\indexing.py\u001b[0m in \u001b[0;36m_getitem_lowerdim\u001b[1;34m(self, tup)\u001b[0m\n\u001b[0;32m    808\u001b[0m                     \u001b[1;32mreturn\u001b[0m \u001b[0msection\u001b[0m\u001b[1;33m\u001b[0m\u001b[0m\n\u001b[0;32m    809\u001b[0m                 \u001b[1;31m# This is an elided recursive call to iloc/loc\u001b[0m\u001b[1;33m\u001b[0m\u001b[1;33m\u001b[0m\u001b[0m\n\u001b[1;32m--> 810\u001b[1;33m                 \u001b[1;32mreturn\u001b[0m \u001b[0mgetattr\u001b[0m\u001b[1;33m(\u001b[0m\u001b[0msection\u001b[0m\u001b[1;33m,\u001b[0m \u001b[0mself\u001b[0m\u001b[1;33m.\u001b[0m\u001b[0mname\u001b[0m\u001b[1;33m)\u001b[0m\u001b[1;33m[\u001b[0m\u001b[0mnew_key\u001b[0m\u001b[1;33m]\u001b[0m\u001b[1;33m\u001b[0m\u001b[0m\n\u001b[0m\u001b[0;32m    811\u001b[0m \u001b[1;33m\u001b[0m\u001b[0m\n\u001b[0;32m    812\u001b[0m         \u001b[1;32mraise\u001b[0m \u001b[0mIndexingError\u001b[0m\u001b[1;33m(\u001b[0m\u001b[1;34m\"not applicable\"\u001b[0m\u001b[1;33m)\u001b[0m\u001b[1;33m\u001b[0m\u001b[0m\n",
      "\u001b[1;32m~\\AppData\\Roaming\\Python\\Python37\\site-packages\\pandas\\core\\indexing.py\u001b[0m in \u001b[0;36m__getitem__\u001b[1;34m(self, key)\u001b[0m\n\u001b[0;32m    877\u001b[0m \u001b[1;33m\u001b[0m\u001b[0m\n\u001b[0;32m    878\u001b[0m             \u001b[0mmaybe_callable\u001b[0m \u001b[1;33m=\u001b[0m \u001b[0mcom\u001b[0m\u001b[1;33m.\u001b[0m\u001b[0mapply_if_callable\u001b[0m\u001b[1;33m(\u001b[0m\u001b[0mkey\u001b[0m\u001b[1;33m,\u001b[0m \u001b[0mself\u001b[0m\u001b[1;33m.\u001b[0m\u001b[0mobj\u001b[0m\u001b[1;33m)\u001b[0m\u001b[1;33m\u001b[0m\u001b[0m\n\u001b[1;32m--> 879\u001b[1;33m             \u001b[1;32mreturn\u001b[0m \u001b[0mself\u001b[0m\u001b[1;33m.\u001b[0m\u001b[0m_getitem_axis\u001b[0m\u001b[1;33m(\u001b[0m\u001b[0mmaybe_callable\u001b[0m\u001b[1;33m,\u001b[0m \u001b[0maxis\u001b[0m\u001b[1;33m=\u001b[0m\u001b[0maxis\u001b[0m\u001b[1;33m)\u001b[0m\u001b[1;33m\u001b[0m\u001b[0m\n\u001b[0m\u001b[0;32m    880\u001b[0m \u001b[1;33m\u001b[0m\u001b[0m\n\u001b[0;32m    881\u001b[0m     \u001b[1;32mdef\u001b[0m \u001b[0m_is_scalar_access\u001b[0m\u001b[1;33m(\u001b[0m\u001b[0mself\u001b[0m\u001b[1;33m,\u001b[0m \u001b[0mkey\u001b[0m\u001b[1;33m:\u001b[0m \u001b[0mTuple\u001b[0m\u001b[1;33m)\u001b[0m\u001b[1;33m:\u001b[0m\u001b[1;33m\u001b[0m\u001b[0m\n",
      "\u001b[1;32m~\\AppData\\Roaming\\Python\\Python37\\site-packages\\pandas\\core\\indexing.py\u001b[0m in \u001b[0;36m_getitem_axis\u001b[1;34m(self, key, axis)\u001b[0m\n\u001b[0;32m   1086\u001b[0m         \u001b[1;32mif\u001b[0m \u001b[0misinstance\u001b[0m\u001b[1;33m(\u001b[0m\u001b[0mkey\u001b[0m\u001b[1;33m,\u001b[0m \u001b[0mslice\u001b[0m\u001b[1;33m)\u001b[0m\u001b[1;33m:\u001b[0m\u001b[1;33m\u001b[0m\u001b[0m\n\u001b[0;32m   1087\u001b[0m             \u001b[0mself\u001b[0m\u001b[1;33m.\u001b[0m\u001b[0m_validate_key\u001b[0m\u001b[1;33m(\u001b[0m\u001b[0mkey\u001b[0m\u001b[1;33m,\u001b[0m \u001b[0maxis\u001b[0m\u001b[1;33m)\u001b[0m\u001b[1;33m\u001b[0m\u001b[0m\n\u001b[1;32m-> 1088\u001b[1;33m             \u001b[1;32mreturn\u001b[0m \u001b[0mself\u001b[0m\u001b[1;33m.\u001b[0m\u001b[0m_get_slice_axis\u001b[0m\u001b[1;33m(\u001b[0m\u001b[0mkey\u001b[0m\u001b[1;33m,\u001b[0m \u001b[0maxis\u001b[0m\u001b[1;33m=\u001b[0m\u001b[0maxis\u001b[0m\u001b[1;33m)\u001b[0m\u001b[1;33m\u001b[0m\u001b[0m\n\u001b[0m\u001b[0;32m   1089\u001b[0m         \u001b[1;32melif\u001b[0m \u001b[0mcom\u001b[0m\u001b[1;33m.\u001b[0m\u001b[0mis_bool_indexer\u001b[0m\u001b[1;33m(\u001b[0m\u001b[0mkey\u001b[0m\u001b[1;33m)\u001b[0m\u001b[1;33m:\u001b[0m\u001b[1;33m\u001b[0m\u001b[0m\n\u001b[0;32m   1090\u001b[0m             \u001b[1;32mreturn\u001b[0m \u001b[0mself\u001b[0m\u001b[1;33m.\u001b[0m\u001b[0m_getbool_axis\u001b[0m\u001b[1;33m(\u001b[0m\u001b[0mkey\u001b[0m\u001b[1;33m,\u001b[0m \u001b[0maxis\u001b[0m\u001b[1;33m=\u001b[0m\u001b[0maxis\u001b[0m\u001b[1;33m)\u001b[0m\u001b[1;33m\u001b[0m\u001b[0m\n",
      "\u001b[1;32m~\\AppData\\Roaming\\Python\\Python37\\site-packages\\pandas\\core\\indexing.py\u001b[0m in \u001b[0;36m_get_slice_axis\u001b[1;34m(self, slice_obj, axis)\u001b[0m\n\u001b[0;32m   1121\u001b[0m         \u001b[0mlabels\u001b[0m \u001b[1;33m=\u001b[0m \u001b[0mobj\u001b[0m\u001b[1;33m.\u001b[0m\u001b[0m_get_axis\u001b[0m\u001b[1;33m(\u001b[0m\u001b[0maxis\u001b[0m\u001b[1;33m)\u001b[0m\u001b[1;33m\u001b[0m\u001b[0m\n\u001b[0;32m   1122\u001b[0m         indexer = labels.slice_indexer(\n\u001b[1;32m-> 1123\u001b[1;33m             \u001b[0mslice_obj\u001b[0m\u001b[1;33m.\u001b[0m\u001b[0mstart\u001b[0m\u001b[1;33m,\u001b[0m \u001b[0mslice_obj\u001b[0m\u001b[1;33m.\u001b[0m\u001b[0mstop\u001b[0m\u001b[1;33m,\u001b[0m \u001b[0mslice_obj\u001b[0m\u001b[1;33m.\u001b[0m\u001b[0mstep\u001b[0m\u001b[1;33m,\u001b[0m \u001b[0mkind\u001b[0m\u001b[1;33m=\u001b[0m\u001b[1;34m\"loc\"\u001b[0m\u001b[1;33m\u001b[0m\u001b[0m\n\u001b[0m\u001b[0;32m   1124\u001b[0m         )\n\u001b[0;32m   1125\u001b[0m \u001b[1;33m\u001b[0m\u001b[0m\n",
      "\u001b[1;32m~\\AppData\\Roaming\\Python\\Python37\\site-packages\\pandas\\core\\indexes\\base.py\u001b[0m in \u001b[0;36mslice_indexer\u001b[1;34m(self, start, end, step, kind)\u001b[0m\n\u001b[0;32m   4967\u001b[0m         \u001b[0mslice\u001b[0m\u001b[1;33m(\u001b[0m\u001b[1;36m1\u001b[0m\u001b[1;33m,\u001b[0m \u001b[1;36m3\u001b[0m\u001b[1;33m,\u001b[0m \u001b[1;32mNone\u001b[0m\u001b[1;33m)\u001b[0m\u001b[1;33m\u001b[0m\u001b[0m\n\u001b[0;32m   4968\u001b[0m         \"\"\"\n\u001b[1;32m-> 4969\u001b[1;33m         \u001b[0mstart_slice\u001b[0m\u001b[1;33m,\u001b[0m \u001b[0mend_slice\u001b[0m \u001b[1;33m=\u001b[0m \u001b[0mself\u001b[0m\u001b[1;33m.\u001b[0m\u001b[0mslice_locs\u001b[0m\u001b[1;33m(\u001b[0m\u001b[0mstart\u001b[0m\u001b[1;33m,\u001b[0m \u001b[0mend\u001b[0m\u001b[1;33m,\u001b[0m \u001b[0mstep\u001b[0m\u001b[1;33m=\u001b[0m\u001b[0mstep\u001b[0m\u001b[1;33m,\u001b[0m \u001b[0mkind\u001b[0m\u001b[1;33m=\u001b[0m\u001b[0mkind\u001b[0m\u001b[1;33m)\u001b[0m\u001b[1;33m\u001b[0m\u001b[0m\n\u001b[0m\u001b[0;32m   4970\u001b[0m \u001b[1;33m\u001b[0m\u001b[0m\n\u001b[0;32m   4971\u001b[0m         \u001b[1;31m# return a slice\u001b[0m\u001b[1;33m\u001b[0m\u001b[1;33m\u001b[0m\u001b[0m\n",
      "\u001b[1;32m~\\AppData\\Roaming\\Python\\Python37\\site-packages\\pandas\\core\\indexes\\base.py\u001b[0m in \u001b[0;36mslice_locs\u001b[1;34m(self, start, end, step, kind)\u001b[0m\n\u001b[0;32m   5170\u001b[0m         \u001b[0mstart_slice\u001b[0m \u001b[1;33m=\u001b[0m \u001b[1;32mNone\u001b[0m\u001b[1;33m\u001b[0m\u001b[0m\n\u001b[0;32m   5171\u001b[0m         \u001b[1;32mif\u001b[0m \u001b[0mstart\u001b[0m \u001b[1;32mis\u001b[0m \u001b[1;32mnot\u001b[0m \u001b[1;32mNone\u001b[0m\u001b[1;33m:\u001b[0m\u001b[1;33m\u001b[0m\u001b[0m\n\u001b[1;32m-> 5172\u001b[1;33m             \u001b[0mstart_slice\u001b[0m \u001b[1;33m=\u001b[0m \u001b[0mself\u001b[0m\u001b[1;33m.\u001b[0m\u001b[0mget_slice_bound\u001b[0m\u001b[1;33m(\u001b[0m\u001b[0mstart\u001b[0m\u001b[1;33m,\u001b[0m \u001b[1;34m\"left\"\u001b[0m\u001b[1;33m,\u001b[0m \u001b[0mkind\u001b[0m\u001b[1;33m)\u001b[0m\u001b[1;33m\u001b[0m\u001b[0m\n\u001b[0m\u001b[0;32m   5173\u001b[0m         \u001b[1;32mif\u001b[0m \u001b[0mstart_slice\u001b[0m \u001b[1;32mis\u001b[0m \u001b[1;32mNone\u001b[0m\u001b[1;33m:\u001b[0m\u001b[1;33m\u001b[0m\u001b[0m\n\u001b[0;32m   5174\u001b[0m             \u001b[0mstart_slice\u001b[0m \u001b[1;33m=\u001b[0m \u001b[1;36m0\u001b[0m\u001b[1;33m\u001b[0m\u001b[0m\n",
      "\u001b[1;32m~\\AppData\\Roaming\\Python\\Python37\\site-packages\\pandas\\core\\indexes\\base.py\u001b[0m in \u001b[0;36mget_slice_bound\u001b[1;34m(self, label, side, kind)\u001b[0m\n\u001b[0;32m   5080\u001b[0m         \u001b[1;31m# For datetime indices label may be a string that has to be converted\u001b[0m\u001b[1;33m\u001b[0m\u001b[1;33m\u001b[0m\u001b[0m\n\u001b[0;32m   5081\u001b[0m         \u001b[1;31m# to datetime boundary according to its resolution.\u001b[0m\u001b[1;33m\u001b[0m\u001b[1;33m\u001b[0m\u001b[0m\n\u001b[1;32m-> 5082\u001b[1;33m         \u001b[0mlabel\u001b[0m \u001b[1;33m=\u001b[0m \u001b[0mself\u001b[0m\u001b[1;33m.\u001b[0m\u001b[0m_maybe_cast_slice_bound\u001b[0m\u001b[1;33m(\u001b[0m\u001b[0mlabel\u001b[0m\u001b[1;33m,\u001b[0m \u001b[0mside\u001b[0m\u001b[1;33m,\u001b[0m \u001b[0mkind\u001b[0m\u001b[1;33m)\u001b[0m\u001b[1;33m\u001b[0m\u001b[0m\n\u001b[0m\u001b[0;32m   5083\u001b[0m \u001b[1;33m\u001b[0m\u001b[0m\n\u001b[0;32m   5084\u001b[0m         \u001b[1;31m# we need to look up the label\u001b[0m\u001b[1;33m\u001b[0m\u001b[1;33m\u001b[0m\u001b[0m\n",
      "\u001b[1;32m~\\AppData\\Roaming\\Python\\Python37\\site-packages\\pandas\\core\\indexes\\base.py\u001b[0m in \u001b[0;36m_maybe_cast_slice_bound\u001b[1;34m(self, label, side, kind)\u001b[0m\n\u001b[0;32m   5032\u001b[0m         \u001b[1;31m# this is rejected (generally .loc gets you here)\u001b[0m\u001b[1;33m\u001b[0m\u001b[1;33m\u001b[0m\u001b[0m\n\u001b[0;32m   5033\u001b[0m         \u001b[1;32melif\u001b[0m \u001b[0mis_integer\u001b[0m\u001b[1;33m(\u001b[0m\u001b[0mlabel\u001b[0m\u001b[1;33m)\u001b[0m\u001b[1;33m:\u001b[0m\u001b[1;33m\u001b[0m\u001b[0m\n\u001b[1;32m-> 5034\u001b[1;33m             \u001b[0mself\u001b[0m\u001b[1;33m.\u001b[0m\u001b[0m_invalid_indexer\u001b[0m\u001b[1;33m(\u001b[0m\u001b[1;34m\"slice\"\u001b[0m\u001b[1;33m,\u001b[0m \u001b[0mlabel\u001b[0m\u001b[1;33m)\u001b[0m\u001b[1;33m\u001b[0m\u001b[0m\n\u001b[0m\u001b[0;32m   5035\u001b[0m \u001b[1;33m\u001b[0m\u001b[0m\n\u001b[0;32m   5036\u001b[0m         \u001b[1;32mreturn\u001b[0m \u001b[0mlabel\u001b[0m\u001b[1;33m\u001b[0m\u001b[0m\n",
      "\u001b[1;32m~\\AppData\\Roaming\\Python\\Python37\\site-packages\\pandas\\core\\indexes\\base.py\u001b[0m in \u001b[0;36m_invalid_indexer\u001b[1;34m(self, form, key)\u001b[0m\n\u001b[0;32m   3269\u001b[0m         \"\"\"\n\u001b[0;32m   3270\u001b[0m         raise TypeError(\n\u001b[1;32m-> 3271\u001b[1;33m             \u001b[1;34mf\"cannot do {form} indexing on {type(self).__name__} with these \"\u001b[0m\u001b[1;33m\u001b[0m\u001b[0m\n\u001b[0m\u001b[0;32m   3272\u001b[0m             \u001b[1;34mf\"indexers [{key}] of type {type(key).__name__}\"\u001b[0m\u001b[1;33m\u001b[0m\u001b[0m\n\u001b[0;32m   3273\u001b[0m         )\n",
      "\u001b[1;31mTypeError\u001b[0m: cannot do slice indexing on Index with these indexers [0] of type int"
     ]
    }
   ],
   "source": [
    "run_evaluation('5: zdodifjkz', 'Porter', 'Datamining')"
   ]
  },
  {
   "cell_type": "markdown",
   "metadata": {},
   "source": [
    "# Main"
   ]
  },
  {
   "cell_type": "markdown",
   "metadata": {},
   "source": [
    "### Additional"
   ]
  },
  {
   "cell_type": "code",
   "execution_count": null,
   "metadata": {},
   "outputs": [],
   "source": [
    "queries = list(ml.qry_set.items())\n",
    "queries[:] = [f\"{elem[0]}: \"+elem[1][:50] +\"...\" for elem in queries]\n"
   ]
  },
  {
   "cell_type": "markdown",
   "metadata": {},
   "source": [
    "### Gradio app"
   ]
  },
  {
   "cell_type": "code",
   "execution_count": null,
   "metadata": {},
   "outputs": [
    {
     "name": "stdout",
     "output_type": "stream",
     "text": [
      "Running on local URL:  http://127.0.0.1:7860\n",
      "\n",
      "To create a public link, set `share=True` in `launch()`.\n"
     ]
    },
    {
     "data": {
      "text/html": [
       "<div><iframe src=\"http://127.0.0.1:7860/\" width=\"100%\" height=\"500\" allow=\"autoplay; camera; microphone; clipboard-read; clipboard-write;\" frameborder=\"0\" allowfullscreen></iframe></div>"
      ],
      "text/plain": [
       "<IPython.core.display.HTML object>"
      ]
     },
     "metadata": {},
     "output_type": "display_data"
    },
    {
     "data": {
      "text/plain": []
     },
     "execution_count": 20,
     "metadata": {},
     "output_type": "execute_result"
    }
   ],
   "source": [
    "with gr.Blocks() as app:\n",
    "        gr.Markdown(\"main app\")\n",
    "        with gr.Tab(\"Main Searches\"):\n",
    "                with gr.Row():\n",
    "                        with gr.Column():\n",
    "                                gr.Markdown(\"Search by Term\")\n",
    "                                search_input = gr.Textbox(label=\"Search for terms\")\n",
    "                                \n",
    "                with gr.Row():\n",
    "                        with gr.Column():\n",
    "                                gr.Markdown(\"Search by Document\")\n",
    "                                search_document = gr.Number()\n",
    "                        with gr.Column():\n",
    "                                gr.Markdown(\"Stemming method\")\n",
    "                                stemming_method = gr.Radio([\"Porter\", \"Lancaster\"], label=\"Stemming\")\n",
    "                with gr.Row():\n",
    "                        with gr.Column():\n",
    "                                search_document_button = gr.Button(value=\"Search by Document\")\n",
    "                        with gr.Column():\n",
    "                                search_button = gr.Button(value=\"Search by Term\")\n",
    "                with gr.Row():\n",
    "                        search_output = gr.Numpy()\n",
    "\n",
    "        with gr.Tab(\"Boolean Search\"):\n",
    "                gr.Markdown(\"Boolean Search\")\n",
    "                search_boolean = gr.Textbox(label=\"Boolean search\")\n",
    "                stemmer_boolean = gr.Radio([\"Porter\", \"Lancaster\"], label=\"Stemming\")\n",
    "                search_boolean_button = gr.Button(value=\"Search\")\n",
    "                search_boolean_output = gr.Numpy()\n",
    "        with gr.Tab(\"DBScan\"):\n",
    "                gr.Markdown(\"DBScan\")\n",
    "                with gr.Row():\n",
    "                        with gr.Column():\n",
    "                                plot_dbscan = gr.Plot()\n",
    "                        with gr.Column():\n",
    "                                eps = gr.Number()\n",
    "                                min_samples = gr.Number()\n",
    "                                run_dbscan = gr.Button(value=\"Run DBScan\")\n",
    "        with gr.Tab(\"Naive Bayes\"):\n",
    "                gr.Markdown(\"Naive Bayes\")\n",
    "                plot_naive = gr.Plot()\n",
    "                with gr.Row():\n",
    "                        with gr.Column():\n",
    "                                plot_naive_scatter = gr.Plot()\n",
    "                        with gr.Column():\n",
    "                                accuracy = gr.Textbox(label = 'Accuracy')\n",
    "                with gr.Row():\n",
    "                        with gr.Column():\n",
    "                                precision = gr.Numpy()\n",
    "                        with gr.Column():\n",
    "                                recall = gr.Numpy()\n",
    "                        with gr.Column():\n",
    "                                f1 = gr.Numpy()\n",
    "                with gr.Row():\n",
    "                        confusion_matrix_naive = gr.Numpy()\n",
    "                \n",
    "        with gr.Tab(\"Evaluation\"):\n",
    "                gr.Markdown(\"Evaluation\")\n",
    "                with gr.Row():\n",
    "                        with gr.Column():\n",
    "                                roc_curve = gr.Plot()\n",
    "                                run_eval = gr.Button(value=\"Run Evaluation\")\n",
    "                        with gr.Column():\n",
    "                                combo_queries = gr.Dropdown(queries)\n",
    "                                with gr.Row():\n",
    "                                        stemming_method_evaluation = gr.Radio([\"Porter\", \"Lancaster\"], label=\"Stemming\")\n",
    "                                with gr.Row():\n",
    "                                        SRI = gr.Radio([\"Cosine\", \"Jaccard\", \"BM25\", \"Produit Scalaire\", \"Datamining\"], label = \"SRI\")\n",
    "                with gr.Row():\n",
    "                        top10 = gr.Numpy()\n",
    "                with gr.Row():\n",
    "                        with gr.Column():\n",
    "                                p5 = gr.Textbox(label = 'p@5')\n",
    "                                p10 = gr.Textbox(label = 'p@10')\n",
    "                        with gr.Column():\n",
    "                                p5_inter = gr.Textbox(label = 'p@5 interpolée')\n",
    "                                p10_inter = gr.Textbox(label = 'p@10_interpolée')\n",
    "                with gr.Row():\n",
    "                        eval_matrix = gr.Numpy()\n",
    "\n",
    "\n",
    "        search_button.click(search_query_poids, inputs = [search_input, stemming_method], outputs = search_output)\n",
    "        search_document_button.click(search_document_number, inputs = [search_document, stemming_method], outputs = search_output)\n",
    "        search_boolean_button.click(search_query, inputs = [search_boolean, stemmer_boolean], outputs = search_boolean_output)\n",
    "        run_dbscan.click(run_dbscan_function, inputs = [eps, min_samples], outputs = [plot_dbscan, plot_naive, plot_naive_scatter, confusion_matrix_naive, accuracy, precision, recall, f1])\n",
    "        run_eval.click(run_evaluation, inputs = [combo_queries, stemming_method_evaluation, SRI], outputs = [roc_curve, top10, p5, p10, p5_inter, p10_inter, eval_matrix])\n",
    "        \n",
    "\n",
    "app.launch()"
   ]
  }
 ],
 "metadata": {
  "kernelspec": {
   "display_name": "Python 3.7.0 64-bit",
   "language": "python",
   "name": "python3"
  },
  "language_info": {
   "codemirror_mode": {
    "name": "ipython",
    "version": 3
   },
   "file_extension": ".py",
   "mimetype": "text/x-python",
   "name": "python",
   "nbconvert_exporter": "python",
   "pygments_lexer": "ipython3",
   "version": "3.7.0"
  },
  "orig_nbformat": 4,
  "vscode": {
   "interpreter": {
    "hash": "ef545868ebe32c0c19943cd724395eaefc95151b54bafda088e747bf03113afe"
   }
  }
 },
 "nbformat": 4,
 "nbformat_minor": 2
}
