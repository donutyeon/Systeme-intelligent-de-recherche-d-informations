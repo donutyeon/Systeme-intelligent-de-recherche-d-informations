{
 "cells": [
  {
   "cell_type": "markdown",
   "metadata": {},
   "source": [
    "## Imports"
   ]
  },
  {
   "cell_type": "code",
   "execution_count": 1,
   "metadata": {},
   "outputs": [],
   "source": [
    "import pandas as pd\n",
    "import gradio as gr\n",
    "import nltk\n",
    "import numpy as np\n",
    "import matplotlib.pyplot as plt\n",
    "\n",
    "from machine_learning import MachineLearning\n",
    "\n",
    "from sklearn.decomposition import PCA\n",
    "from sklearn import preprocessing\n",
    "\n",
    "import base64"
   ]
  },
  {
   "cell_type": "markdown",
   "metadata": {},
   "source": [
    "## Files load"
   ]
  },
  {
   "cell_type": "code",
   "execution_count": 2,
   "metadata": {},
   "outputs": [],
   "source": [
    "df_descripteur_porter = pd.read_csv('freq_poids_porter.csv')\n",
    "df_descripteur_lancaster = pd.read_csv('freq_poids_lancaster.csv')"
   ]
  },
  {
   "cell_type": "code",
   "execution_count": 3,
   "metadata": {},
   "outputs": [],
   "source": [
    "df_freqs_poids_porter = pd.read_csv('freq_poids_porter.csv')\n",
    "df_freqs_poids_lancaster = pd.read_csv('freq_poids_lancaster.csv')"
   ]
  },
  {
   "cell_type": "code",
   "execution_count": 4,
   "metadata": {},
   "outputs": [],
   "source": [
    "df_pca_dbscan = pd.read_csv('pca_df_dbscan.csv').drop(['label', 'Unnamed: 0'], axis=1)"
   ]
  },
  {
   "cell_type": "code",
   "execution_count": 5,
   "metadata": {},
   "outputs": [],
   "source": [
    "queries_porter = pd.read_csv('queries_porter.csv')"
   ]
  },
  {
   "cell_type": "code",
   "execution_count": 6,
   "metadata": {},
   "outputs": [],
   "source": [
    "ml = MachineLearning()"
   ]
  },
  {
   "cell_type": "markdown",
   "metadata": {},
   "source": [
    "### Old files (Deprecated)"
   ]
  },
  {
   "cell_type": "code",
   "execution_count": 7,
   "metadata": {},
   "outputs": [],
   "source": [
    "# df_inverse_porter = pd.read_csv('df_poids.csv').drop('Unnamed: 0', axis=1)\n",
    "# df_inverse_lancaster = pd.read_csv('df_poids_lan.csv').drop('Unnamed: 0', axis=1)"
   ]
  },
  {
   "cell_type": "markdown",
   "metadata": {},
   "source": [
    "# Functions"
   ]
  },
  {
   "cell_type": "markdown",
   "metadata": {},
   "source": [
    "## First tab functions"
   ]
  },
  {
   "cell_type": "code",
   "execution_count": 8,
   "metadata": {},
   "outputs": [],
   "source": [
    "def search_query_poids(phrase, stemming_method):\n",
    "        if stemming_method == 'Porter':\n",
    "                return ml.freq_inverse(df_descripteur_porter, phrase, 'P')\n",
    "        elif stemming_method == 'Lancaster':\n",
    "                return ml.freq_inverse(df_descripteur_lancaster, phrase, 'L')"
   ]
  },
  {
   "cell_type": "code",
   "execution_count": 9,
   "metadata": {},
   "outputs": [],
   "source": [
    "def search_document_number(document, stemming_method):\n",
    "        if stemming_method == 'Porter':\n",
    "                new_df = df_descripteur_porter[df_descripteur_porter['Document']== document]\n",
    "        elif stemming_method == 'Lancaster':\n",
    "                new_df = df_descripteur_lancaster[df_descripteur_lancaster['Document']== document]\n",
    "        new_df.drop(['Document'], axis=1, inplace=True)\n",
    "        return new_df"
   ]
  },
  {
   "cell_type": "markdown",
   "metadata": {},
   "source": [
    "#### Old functions (deprecated)"
   ]
  },
  {
   "cell_type": "code",
   "execution_count": 10,
   "metadata": {},
   "outputs": [],
   "source": [
    "# def search_document_descripteur(document, stemming_method):\n",
    "#         if stemming_method == 'Porter':\n",
    "#                 new_df = df_descripteur_porter[df_descripteur_porter['Document']== document]\n",
    "#         elif stemming_method == 'Lancaster':\n",
    "#                 new_df = df_descripteur_lancaster[df_descripteur_lancaster['Document']== document]\n",
    "#         new_df.drop(['Document'], axis=1, inplace=True)\n",
    "        \n",
    "#         if stemming_method == 'Porter':\n",
    "#                 inverse = df_inverse_porter.iloc[int(document)].to_frame()\n",
    "#         elif stemming_method == 'Lancaster':\n",
    "#                 inverse = df_inverse_lancaster.iloc[int(document)].to_frame()\n",
    "#         inverse = inverse[(inverse.T != 0.000000).all()]\n",
    "#         inverse = inverse.reset_index(level=0)\n",
    "#         inverse[\"Terme\"] = inverse[\"index\"]\n",
    "#         inverse[\"Poid\"] = inverse[int(document)]\n",
    "#         inverse.drop([int(document)], axis=1, inplace=True)\n",
    "#         inverse.drop(['index'], axis=1, inplace=True)\n",
    "\n",
    "#         return [new_df, inverse]"
   ]
  },
  {
   "cell_type": "code",
   "execution_count": 11,
   "metadata": {},
   "outputs": [],
   "source": [
    "# def search_document_inverse(phrase, stemming_method):\n",
    "#         ExpReg = nltk. RegexpTokenizer('(?:[A-Za-z]\\.)+|\\d+(?:\\.\\d+)?%?|\\w+(?:\\-\\w+)*')\n",
    "#         termes = ExpReg.tokenize(phrase)\n",
    "#         termes = [t.lower() for t in termes]\n",
    "#         MotsVides = nltk.corpus.stopwords.words('english')\n",
    "#         if stemming_method == 'Porter':\n",
    "#                 Porter = nltk.PorterStemmer()\n",
    "#                 TermesSansMotsVides_p = [Porter.stem(terme) for terme in termes if terme.lower() not in MotsVides]\n",
    "#         elif stemming_method == 'Lancaster':\n",
    "#                 Lancaster = nltk.LancasterStemmer()\n",
    "#                 TermesSansMotsVides_p = [Lancaster.stem(terme) for terme in termes if terme.lower() not in MotsVides]\n",
    "        \n",
    "#         if stemming_method == 'Porter':\n",
    "#                 new_df = df_inverse_porter[TermesSansMotsVides_p]\n",
    "#         elif stemming_method == 'Lancaster':\n",
    "#                 new_df = df_inverse_lancaster[TermesSansMotsVides_p]\n",
    "#         new_df = new_df[(new_df.T != 0.000000).any()]\n",
    "#         new_df = new_df.reset_index(level=0)\n",
    "\n",
    "#         if stemming_method == 'Porter':\n",
    "#                 desc_df = df_descripteur_porter.loc[df_descripteur_porter['Terme'].isin(TermesSansMotsVides_p) ]\n",
    "#         elif stemming_method == 'Lancaster':\n",
    "#                 desc_df = df_descripteur_lancaster.loc[df_descripteur_lancaster['Terme'].isin(TermesSansMotsVides_p) ]\n",
    "\n",
    "#         #new_df.drop(['document'], axis=1, inplace=True)\n",
    "#         return new_df, desc_df"
   ]
  },
  {
   "cell_type": "markdown",
   "metadata": {},
   "source": [
    "## Second tab function"
   ]
  },
  {
   "cell_type": "code",
   "execution_count": 12,
   "metadata": {},
   "outputs": [],
   "source": [
    "def search_query(query, stemmer):\n",
    "        results = ml.boolean(query, stemmer[0])\n",
    "        return pd.DataFrame(results)\n",
    "        "
   ]
  },
  {
   "cell_type": "markdown",
   "metadata": {},
   "source": [
    "### Test query"
   ]
  },
  {
   "cell_type": "code",
   "execution_count": 13,
   "metadata": {},
   "outputs": [],
   "source": [
    "# search_query(\"information AND classification OR NOT title AND computers\")"
   ]
  },
  {
   "cell_type": "markdown",
   "metadata": {},
   "source": [
    "## Third tab functions"
   ]
  },
  {
   "cell_type": "code",
   "execution_count": 14,
   "metadata": {},
   "outputs": [],
   "source": [
    "def run_dbscan_function(eps, min_samples):\n",
    "        global X\n",
    "        X = df_pca_dbscan.copy()\n",
    "        dbscan = ml.DBSCAN(eps, min_samples, data=df_pca_dbscan.to_numpy())\n",
    "        dbscan.fit()\n",
    "        X['label'] = np.nan\n",
    "        clusters = dbscan.get_clusters()\n",
    "        noise = dbscan.get_noise()\n",
    "        for cluster in range (len(clusters)):\n",
    "                for element in clusters[cluster]:\n",
    "                        #assign cluster number to each element\n",
    "                        X.loc[element]['label'] = cluster\n",
    "        for element in noise:\n",
    "                #assign cluster number to each element\n",
    "                X.loc[element]['label'] = -1\n",
    "        fig,ax = plt.subplots(1,1)\n",
    "        map = ax.scatter(X['0'],X['1'], c=X['label'], cmap='rainbow')\n",
    "        fig.colorbar(map, ax=ax)\n",
    "        res, plot_naive, plot_naive_scatter,confusion_matrix_naive, accuracy, precision, recall, f1 = run_naive_bayes()\n",
    "        \n",
    "        return fig, plot_naive, plot_naive_scatter, confusion_matrix_naive, accuracy, precision, recall, f1"
   ]
  },
  {
   "cell_type": "code",
   "execution_count": 15,
   "metadata": {},
   "outputs": [],
   "source": [
    "def run_naive_bayes():\n",
    "        pca = PCA(n_components=2)\n",
    "        pca.fit(queries_porter)\n",
    "        x_pca = pca.transform(queries_porter)\n",
    "        pca_df = pd.DataFrame(x_pca)\n",
    "        x = pca_df.values #returns a numpy array\n",
    "        min_max_scaler = preprocessing.MinMaxScaler()\n",
    "        x_scaled = min_max_scaler.fit_transform(x)\n",
    "        pca_df_normalized = pd.DataFrame(x_scaled)\n",
    "\n",
    "        X_train, X_test, y_train, y_test = ml.train_test_split(X, test_size=0.3)\n",
    "        bayes= ml.NaiveBayesClassifier()\n",
    "        bayes.fit(X_train, y_train)\n",
    "        predictions = bayes.predict(X_test.squeeze())\n",
    "        while (len(np.unique(predictions)) < len(np.unique(X['label']))/2):\n",
    "            X_train, X_test, y_train, y_test = ml.train_test_split(X, test_size=0.3)\n",
    "            bayes= ml.NaiveBayesClassifier()\n",
    "            bayes.fit(X_train, y_train)\n",
    "            predictions = bayes.predict(X_test.squeeze())\n",
    "\n",
    "        accuracy = bayes.accuracy(y_test, predictions)\n",
    "\n",
    "        plot_naive = bayes.visualize(y_test, predictions, 'label')\n",
    "\n",
    "        pca_df_normalized['label'] = bayes.predict(pca_df_normalized)\n",
    "        fig2, ax = plt.subplots(1,1)\n",
    "        ax.scatter(pca_df_normalized[0], pca_df_normalized[1], c=pca_df_normalized['label'], cmap='rainbow')\n",
    "        \n",
    "        predictions = pd.Series(predictions)\n",
    "        y_test.reset_index(drop=True, inplace=True)\n",
    "        confusion = bayes.confusion_matrix(y_test, predictions)\n",
    "        precision = pd.DataFrame(bayes.precision(y_test, predictions), columns=['Precision'])\n",
    "        recall = pd.DataFrame(bayes.recall(y_test, predictions), columns=['Recall'])\n",
    "        f1 = pd.DataFrame(bayes.f1_score(y_test, predictions), columns=['F1 Score'])\n",
    "        return bayes, plot_naive, fig2, confusion, accuracy, precision, recall, f1\n",
    "        "
   ]
  },
  {
   "cell_type": "markdown",
   "metadata": {},
   "source": [
    "### Test run"
   ]
  },
  {
   "cell_type": "code",
   "execution_count": 16,
   "metadata": {},
   "outputs": [],
   "source": [
    "# res = run_dbscan_function(0.022221,7)\n",
    "# type(res[5])"
   ]
  },
  {
   "cell_type": "markdown",
   "metadata": {},
   "source": [
    "## Fourth Tab Function"
   ]
  },
  {
   "cell_type": "code",
   "execution_count": 17,
   "metadata": {},
   "outputs": [],
   "source": [
    "def run_evaluation(combo_queries, stemming_method_evaluation, SRI):\n",
    "        query_idx = combo_queries.split(':')[0]\n",
    "        \n",
    "        output = ml.roc_curve(stemming_method_evaluation[0], int(query_idx), SRI)\n",
    "        res = output[0]\n",
    "        cm = pd.DataFrame(output[1],columns=['Pertinent','Non Pertinent'],index=['Pertinent','Non Pertinent'])\n",
    "        # roc_curve, top10, p5, p10, p5_inter, p10_inter\n",
    "        fig, ax = plt.subplots(1,1)\n",
    "        ax.plot(res['Rappel_Interpolée'], res['Precision_Interpolée'])\n",
    "        return fig, res, res['Precision'].iloc[4], res['Precision'].iloc[9], res['Precision_Interpolée'].iloc[4], res['Precision_Interpolée'].iloc[9], cm"
   ]
  },
  {
   "cell_type": "markdown",
   "metadata": {},
   "source": [
    "### Test"
   ]
  },
  {
   "cell_type": "code",
   "execution_count": 18,
   "metadata": {},
   "outputs": [],
   "source": [
    "# run_evaluation('5: zdodifjkz', 'Porter', 'Datamining')"
   ]
  },
  {
   "cell_type": "markdown",
   "metadata": {},
   "source": [
    "# Main"
   ]
  },
  {
   "cell_type": "markdown",
   "metadata": {},
   "source": [
    "### Additional"
   ]
  },
  {
   "cell_type": "code",
   "execution_count": 19,
   "metadata": {},
   "outputs": [],
   "source": [
    "queries = list(ml.qry_set.items())\n",
    "queries[:] = [f\"{elem[0]}: \"+elem[1][:50] +\"...\" for elem in queries]\n"
   ]
  },
  {
   "cell_type": "markdown",
   "metadata": {},
   "source": [
    "### Gradio app"
   ]
  },
  {
   "cell_type": "code",
   "execution_count": 20,
   "metadata": {},
   "outputs": [
    {
     "name": "stdout",
     "output_type": "stream",
     "text": [
      "Running on local URL:  http://127.0.0.1:7860\n",
      "\n",
      "To create a public link, set `share=True` in `launch()`.\n"
     ]
    },
    {
     "data": {
      "text/html": [
       "<div><iframe src=\"http://127.0.0.1:7860/\" width=\"100%\" height=\"500\" allow=\"autoplay; camera; microphone; clipboard-read; clipboard-write;\" frameborder=\"0\" allowfullscreen></iframe></div>"
      ],
      "text/plain": [
       "<IPython.core.display.HTML object>"
      ]
     },
     "metadata": {},
     "output_type": "display_data"
    },
    {
     "data": {
      "text/plain": []
     },
     "execution_count": 20,
     "metadata": {},
     "output_type": "execute_result"
    },
    {
     "name": "stdout",
     "output_type": "stream",
     "text": [
      "Processing time: 0.0032025 secs\n"
     ]
    },
    {
     "data": {
      "application/vnd.jupyter.widget-view+json": {
       "model_id": "41235af8b318497ca8ac38a4698f06cb",
       "version_major": 2,
       "version_minor": 0
      },
      "text/plain": [
       "  0%|          | 0/1460 [00:00<?, ?it/s]"
      ]
     },
     "metadata": {},
     "output_type": "display_data"
    }
   ],
   "source": [
    "with gr.Blocks() as app:\n",
    "        gr.Markdown(\"main app\")\n",
    "        with gr.Tab(\"Main Searches\"):\n",
    "                with gr.Row():\n",
    "                        with gr.Column():\n",
    "                                gr.Markdown(\"Search by Term\")\n",
    "                                search_input = gr.Textbox(label=\"Search for terms\")\n",
    "                                \n",
    "                with gr.Row():\n",
    "                        with gr.Column():\n",
    "                                gr.Markdown(\"Search by Document\")\n",
    "                                search_document = gr.Number()\n",
    "                        with gr.Column():\n",
    "                                gr.Markdown(\"Stemming method\")\n",
    "                                stemming_method = gr.Radio([\"Porter\", \"Lancaster\"], label=\"Stemming\")\n",
    "                with gr.Row():\n",
    "                        with gr.Column():\n",
    "                                search_document_button = gr.Button(value=\"Search by Document\")\n",
    "                        with gr.Column():\n",
    "                                search_button = gr.Button(value=\"Search by Term\")\n",
    "                with gr.Row():\n",
    "                        search_output = gr.Numpy()\n",
    "\n",
    "        with gr.Tab(\"Boolean Search\"):\n",
    "                gr.Markdown(\"Boolean Search\")\n",
    "                search_boolean = gr.Textbox(label=\"Boolean search\")\n",
    "                stemmer_boolean = gr.Radio([\"Porter\", \"Lancaster\"], label=\"Stemming\")\n",
    "                search_boolean_button = gr.Button(value=\"Search\")\n",
    "                search_boolean_output = gr.Numpy()\n",
    "        with gr.Tab(\"DBScan\"):\n",
    "                gr.Markdown(\"DBScan\")\n",
    "                with gr.Row():\n",
    "                        with gr.Column():\n",
    "                                plot_dbscan = gr.Plot()\n",
    "                        with gr.Column():\n",
    "                                eps = gr.Number(label=\"Eps\")\n",
    "                                min_samples = gr.Number(label=\"Min Samples\")\n",
    "                                run_dbscan = gr.Button(value=\"Run DBScan\")\n",
    "        with gr.Tab(\"Naive Bayes\"):\n",
    "                gr.Markdown(\"Naive Bayes\")\n",
    "                plot_naive = gr.Plot()\n",
    "                with gr.Row():\n",
    "                        with gr.Column():\n",
    "                                plot_naive_scatter = gr.Plot()\n",
    "                        with gr.Column():\n",
    "                                accuracy = gr.Textbox(label = 'Accuracy')\n",
    "                with gr.Row():\n",
    "                        with gr.Column():\n",
    "                                precision = gr.Numpy()\n",
    "                        with gr.Column():\n",
    "                                recall = gr.Numpy()\n",
    "                        with gr.Column():\n",
    "                                f1 = gr.Numpy()\n",
    "                with gr.Row():\n",
    "                        confusion_matrix_naive = gr.Numpy()\n",
    "                \n",
    "        with gr.Tab(\"Evaluation\"):\n",
    "                gr.Markdown(\"Evaluation\")\n",
    "                with gr.Row():\n",
    "                        with gr.Column():\n",
    "                                roc_curve = gr.Plot()\n",
    "                                run_eval = gr.Button(value=\"Run Evaluation\")\n",
    "                        with gr.Column():\n",
    "                                combo_queries = gr.Dropdown(queries)\n",
    "                                with gr.Row():\n",
    "                                        stemming_method_evaluation = gr.Radio([\"Porter\", \"Lancaster\"], label=\"Stemming\")\n",
    "                                with gr.Row():\n",
    "                                        SRI = gr.Radio([\"Cosine\", \"Jaccard\", \"BM25\", \"Produit Scalaire\", \"Datamining\"], label = \"SRI\")\n",
    "                with gr.Row():\n",
    "                        top10 = gr.Numpy()\n",
    "                with gr.Row():\n",
    "                        with gr.Column():\n",
    "                                p5 = gr.Textbox(label = 'p@5')\n",
    "                                p10 = gr.Textbox(label = 'p@10')\n",
    "                        with gr.Column():\n",
    "                                p5_inter = gr.Textbox(label = 'p@5 interpolée')\n",
    "                                p10_inter = gr.Textbox(label = 'p@10_interpolée')\n",
    "                with gr.Row():\n",
    "                        eval_matrix = gr.Numpy()\n",
    "\n",
    "\n",
    "        search_button.click(search_query_poids, inputs = [search_input, stemming_method], outputs = search_output)\n",
    "        search_document_button.click(search_document_number, inputs = [search_document, stemming_method], outputs = search_output)\n",
    "        search_boolean_button.click(search_query, inputs = [search_boolean, stemmer_boolean], outputs = search_boolean_output)\n",
    "        run_dbscan.click(run_dbscan_function, inputs = [eps, min_samples], outputs = [plot_dbscan, plot_naive, plot_naive_scatter, confusion_matrix_naive, accuracy, precision, recall, f1])\n",
    "        run_eval.click(run_evaluation, inputs = [combo_queries, stemming_method_evaluation, SRI], outputs = [roc_curve, top10, p5, p10, p5_inter, p10_inter, eval_matrix])\n",
    "        \n",
    "\n",
    "app.launch()"
   ]
  }
 ],
 "metadata": {
  "kernelspec": {
   "display_name": "Python 3.11.1 64-bit",
   "language": "python",
   "name": "python3"
  },
  "language_info": {
   "codemirror_mode": {
    "name": "ipython",
    "version": 3
   },
   "file_extension": ".py",
   "mimetype": "text/x-python",
   "name": "python",
   "nbconvert_exporter": "python",
   "pygments_lexer": "ipython3",
   "version": "3.11.1"
  },
  "orig_nbformat": 4,
  "vscode": {
   "interpreter": {
    "hash": "5d707c00c767744dea3391f710500fd2c6214da7ad81f583b95faad2d1e9d50c"
   }
  }
 },
 "nbformat": 4,
 "nbformat_minor": 2
}
